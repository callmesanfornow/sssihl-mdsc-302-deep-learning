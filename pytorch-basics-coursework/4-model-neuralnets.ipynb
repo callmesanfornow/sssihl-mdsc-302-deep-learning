{
 "cells": [
  {
   "cell_type": "markdown",
   "metadata": {},
   "source": [
    "Roll : 21226\n",
    "\n",
    "Assignment 4 : Building NeuralNet"
   ]
  },
  {
   "cell_type": "markdown",
   "metadata": {},
   "source": [
    "---"
   ]
  },
  {
   "cell_type": "markdown",
   "metadata": {},
   "source": [
    "## Building Neural Network\n",
    "\n",
    "Neural networks comprise of layers/modules that perform operations on data. The `torch.nn` namespace provides all the building blocks you need to build your own neural network. Every module in PyTorch subclasses the `nn.Module`.\n",
    "\n",
    "A neural network is a module itself that consists of other modules (layers). This nested structure allows for building and managing complex architectures easily."
   ]
  },
  {
   "cell_type": "code",
   "execution_count": 1,
   "metadata": {},
   "outputs": [],
   "source": [
    "import os\n",
    "import torch\n",
    "from torch import nn\n",
    "from torch.utils.data import DataLoader\n",
    "from torchvision import datasets, transforms"
   ]
  },
  {
   "cell_type": "code",
   "execution_count": 2,
   "metadata": {},
   "outputs": [
    {
     "name": "stdout",
     "output_type": "stream",
     "text": [
      "Device being used :  mps\n"
     ]
    }
   ],
   "source": [
    "# Selecting Device for training\n",
    "\n",
    "device = (\n",
    "    'cuda' if torch.cuda.is_available()\n",
    "    else 'mps' if torch.backends.mps.is_available()\n",
    "    else 'cpu'\n",
    ")\n",
    "print('Device being used : ', device)"
   ]
  },
  {
   "cell_type": "markdown",
   "metadata": {},
   "source": [
    "## Defining Neural Net Class\n",
    "\n",
    "Here, we define the neural network and its layers."
   ]
  },
  {
   "cell_type": "code",
   "execution_count": 3,
   "metadata": {},
   "outputs": [
    {
     "name": "stdout",
     "output_type": "stream",
     "text": [
      "NeuralNetwork(\n",
      "  (flatten): Flatten(start_dim=1, end_dim=-1)\n",
      "  (linear_relu_stack): Sequential(\n",
      "    (0): Linear(in_features=784, out_features=512, bias=True)\n",
      "    (1): ReLU()\n",
      "    (2): Linear(in_features=512, out_features=512, bias=True)\n",
      "    (3): ReLU()\n",
      "    (4): Linear(in_features=512, out_features=10, bias=True)\n",
      "  )\n",
      ")\n"
     ]
    }
   ],
   "source": [
    "class NeuralNetwork(nn.Module):\n",
    "    def __init__(self):\n",
    "        super().__init__()\n",
    "        self.flatten = nn.Flatten()\n",
    "        self.linear_relu_stack = nn.Sequential(\n",
    "            nn.Linear(28*28, 512),\n",
    "            nn.ReLU(),\n",
    "            nn.Linear(512, 512),\n",
    "            nn.ReLU(),\n",
    "            nn.Linear(512, 10),\n",
    "        )\n",
    "\n",
    "    def forward(self, x):\n",
    "        x = self.flatten(x)\n",
    "        logits = self.linear_relu_stack(x)\n",
    "        return logits\n",
    "\n",
    "model = NeuralNetwork().to(device) # Sending model compute to whichever device is available\n",
    "\n",
    "print(model)"
   ]
  },
  {
   "cell_type": "markdown",
   "metadata": {},
   "source": [
    "**We must not call `model.forward()` directly since there are some background operations when passing it with input data!!**\n",
    "\n",
    "When we call the model on input, it returns a 2D Tensor with `dim = 0`, corresponding to each output of 10 predicted values of every class and `dim = 1` corresponding to the individual value of the output.\n",
    "\n",
    "We then use `nn.Softmax` to get prediction probabilities."
   ]
  },
  {
   "cell_type": "code",
   "execution_count": 4,
   "metadata": {},
   "outputs": [
    {
     "name": "stdout",
     "output_type": "stream",
     "text": [
      "Predicted class: tensor([8], device='mps:0')\n"
     ]
    }
   ],
   "source": [
    "X = torch.rand(1, 28, 28, device=device)\n",
    "logits = model(X)\n",
    "pred_probab = nn.Softmax(dim=1)(logits)\n",
    "y_pred = pred_probab.argmax(1)\n",
    "print(f\"Predicted class: {y_pred}\")"
   ]
  },
  {
   "cell_type": "markdown",
   "metadata": {},
   "source": [
    "---"
   ]
  },
  {
   "cell_type": "markdown",
   "metadata": {},
   "source": [
    "## Breaking down Model Layers\n",
    "\n",
    "Input:"
   ]
  },
  {
   "cell_type": "code",
   "execution_count": 5,
   "metadata": {},
   "outputs": [
    {
     "name": "stdout",
     "output_type": "stream",
     "text": [
      "torch.Size([3, 28, 28])\n"
     ]
    }
   ],
   "source": [
    "input_image = torch.rand(3,28,28)\n",
    "print(input_image.size())"
   ]
  },
  {
   "cell_type": "markdown",
   "metadata": {},
   "source": [
    "### `nn.Flatten`\n",
    "\n",
    "Converts 2D array to 1D 784 pixel values."
   ]
  },
  {
   "cell_type": "code",
   "execution_count": 6,
   "metadata": {},
   "outputs": [
    {
     "name": "stdout",
     "output_type": "stream",
     "text": [
      "torch.Size([3, 784])\n"
     ]
    }
   ],
   "source": [
    "flatten = nn.Flatten()\n",
    "flat_image = flatten(input_image)\n",
    "print(flat_image.size())"
   ]
  },
  {
   "cell_type": "markdown",
   "metadata": {},
   "source": [
    "### `nn.Linear`\n",
    "\n",
    "Linear Transformation is applied on input using stored weights and biases."
   ]
  },
  {
   "cell_type": "code",
   "execution_count": 7,
   "metadata": {},
   "outputs": [
    {
     "name": "stdout",
     "output_type": "stream",
     "text": [
      "torch.Size([3, 20])\n"
     ]
    }
   ],
   "source": [
    "layer1 = nn.Linear(in_features=28*28, out_features=20)\n",
    "hidden1 = layer1(flat_image)\n",
    "print(hidden1.size())"
   ]
  },
  {
   "cell_type": "markdown",
   "metadata": {},
   "source": [
    "### `nn.ReLU`\n",
    "\n",
    "Non-Linearity helps create Complex Mappings between the model inputs and outputs."
   ]
  },
  {
   "cell_type": "code",
   "execution_count": 8,
   "metadata": {},
   "outputs": [
    {
     "name": "stdout",
     "output_type": "stream",
     "text": [
      "Before ReLU: tensor([[ 3.2033e-01,  3.7399e-02,  4.4564e-01, -1.3831e-01,  6.7761e-01,\n",
      "         -1.2061e-01,  1.4613e-01, -1.1622e-01,  1.4939e-01,  8.3715e-02,\n",
      "          4.7948e-01, -2.6636e-01,  3.3539e-01,  5.6041e-01, -6.8896e-01,\n",
      "          1.3886e-01, -1.2587e-01,  3.6338e-01, -1.7981e-02, -8.5026e-02],\n",
      "        [ 4.7122e-01, -7.9934e-02,  4.9980e-01, -1.9960e-01,  5.2866e-01,\n",
      "          2.0376e-01, -3.6035e-02,  3.5205e-01,  2.2387e-02, -5.8795e-02,\n",
      "          2.8871e-01, -2.9160e-01,  4.0478e-01,  6.2494e-01, -7.0085e-01,\n",
      "         -1.3142e-02, -3.3802e-01,  4.0176e-01, -4.9127e-04, -5.7207e-01],\n",
      "        [ 4.5721e-01,  1.7684e-02,  2.1326e-01, -2.3027e-01,  4.3473e-01,\n",
      "         -3.9941e-01, -1.6803e-02,  2.1262e-01,  1.8123e-01, -4.2178e-02,\n",
      "          3.2783e-01, -1.3343e-01,  1.8177e-01,  1.9190e-01, -4.0004e-01,\n",
      "         -4.4845e-02, -3.3740e-01,  1.4527e-01,  1.1585e-01, -3.4814e-01]],\n",
      "       grad_fn=<AddmmBackward0>)\n",
      "\n",
      "\n",
      "After ReLU: tensor([[0.3203, 0.0374, 0.4456, 0.0000, 0.6776, 0.0000, 0.1461, 0.0000, 0.1494,\n",
      "         0.0837, 0.4795, 0.0000, 0.3354, 0.5604, 0.0000, 0.1389, 0.0000, 0.3634,\n",
      "         0.0000, 0.0000],\n",
      "        [0.4712, 0.0000, 0.4998, 0.0000, 0.5287, 0.2038, 0.0000, 0.3520, 0.0224,\n",
      "         0.0000, 0.2887, 0.0000, 0.4048, 0.6249, 0.0000, 0.0000, 0.0000, 0.4018,\n",
      "         0.0000, 0.0000],\n",
      "        [0.4572, 0.0177, 0.2133, 0.0000, 0.4347, 0.0000, 0.0000, 0.2126, 0.1812,\n",
      "         0.0000, 0.3278, 0.0000, 0.1818, 0.1919, 0.0000, 0.0000, 0.0000, 0.1453,\n",
      "         0.1159, 0.0000]], grad_fn=<ReluBackward0>)\n"
     ]
    }
   ],
   "source": [
    "print(f\"Before ReLU: {hidden1}\\n\\n\")\n",
    "hidden1 = nn.ReLU()(hidden1)\n",
    "print(f\"After ReLU: {hidden1}\")"
   ]
  },
  {
   "cell_type": "markdown",
   "metadata": {},
   "source": [
    "### `nn.Sequential`\n",
    "`nn.Sequential` is an ordered container of modules. The data is passed through all the modules in the same order as defined. \n",
    "\n",
    "Sequential containers are used to put together a quick network like ``seq_modules``."
   ]
  },
  {
   "cell_type": "code",
   "execution_count": 9,
   "metadata": {},
   "outputs": [],
   "source": [
    "seq_modules = nn.Sequential(\n",
    "    flatten,\n",
    "    layer1,\n",
    "    nn.ReLU(),\n",
    "    nn.Linear(20, 10)\n",
    ")\n",
    "input_image = torch.rand(3,28,28)\n",
    "logits = seq_modules(input_image)"
   ]
  },
  {
   "cell_type": "code",
   "execution_count": 10,
   "metadata": {},
   "outputs": [
    {
     "data": {
      "text/plain": [
       "tensor([[-0.2109,  0.0796, -0.1574, -0.0907,  0.1060,  0.1198,  0.2810,  0.1548,\n",
       "          0.0638,  0.0687],\n",
       "        [-0.1075,  0.0406, -0.1357, -0.0725, -0.0635,  0.0611,  0.1862,  0.1530,\n",
       "          0.0315,  0.0607],\n",
       "        [-0.2372,  0.0536, -0.1293,  0.0025, -0.0137,  0.1142,  0.1570,  0.1503,\n",
       "          0.1050, -0.0931]], grad_fn=<AddmmBackward0>)"
      ]
     },
     "execution_count": 10,
     "metadata": {},
     "output_type": "execute_result"
    }
   ],
   "source": [
    "logits"
   ]
  },
  {
   "cell_type": "markdown",
   "metadata": {},
   "source": [
    "### `nn.Softmax`\n",
    "The last linear layer of the neural network returns `logits` - raw values in [$\\infty, \\infty$] which are passed to the `nn.Softmax` module. The logits are scaled to values [0, 1] representing the model's predicted probabilities for each class. ``dim`` parameter indicates the dimension along\n",
    "which the values must sum to 1.\n",
    "\n"
   ]
  },
  {
   "cell_type": "code",
   "execution_count": 11,
   "metadata": {},
   "outputs": [],
   "source": [
    "softmax = nn.Softmax(dim=1)\n",
    "pred_probab = softmax(logits)"
   ]
  },
  {
   "cell_type": "code",
   "execution_count": 12,
   "metadata": {},
   "outputs": [
    {
     "data": {
      "text/plain": [
       "tensor([[0.0769, 0.1029, 0.0812, 0.0867, 0.1056, 0.1071, 0.1258, 0.1109, 0.1012,\n",
       "         0.1017],\n",
       "        [0.0880, 0.1020, 0.0855, 0.0911, 0.0919, 0.1041, 0.1180, 0.1141, 0.1011,\n",
       "         0.1041],\n",
       "        [0.0774, 0.1036, 0.0863, 0.0984, 0.0968, 0.1100, 0.1149, 0.1141, 0.1090,\n",
       "         0.0894]], grad_fn=<SoftmaxBackward0>)"
      ]
     },
     "execution_count": 12,
     "metadata": {},
     "output_type": "execute_result"
    }
   ],
   "source": [
    "pred_probab"
   ]
  },
  {
   "cell_type": "markdown",
   "metadata": {},
   "source": [
    "## Model Parameters\n",
    "\n",
    "Many layers inside a neural network have associated weights and biases that are optimized during training, aka Parameterization. Subclassing ``nn.Module`` automatically tracks all fields defined inside your model object, and makes all parameters accessible using your model's ``parameters()`` or ``named_parameters()`` methods."
   ]
  },
  {
   "cell_type": "code",
   "execution_count": 13,
   "metadata": {},
   "outputs": [
    {
     "name": "stdout",
     "output_type": "stream",
     "text": [
      "Model structure: NeuralNetwork(\n",
      "  (flatten): Flatten(start_dim=1, end_dim=-1)\n",
      "  (linear_relu_stack): Sequential(\n",
      "    (0): Linear(in_features=784, out_features=512, bias=True)\n",
      "    (1): ReLU()\n",
      "    (2): Linear(in_features=512, out_features=512, bias=True)\n",
      "    (3): ReLU()\n",
      "    (4): Linear(in_features=512, out_features=10, bias=True)\n",
      "  )\n",
      ")\n",
      "\n",
      "\n",
      "Layer: linear_relu_stack.0.weight | Size: torch.Size([512, 784]) | Values : tensor([[-0.0047, -0.0332, -0.0256,  ..., -0.0003,  0.0256, -0.0272],\n",
      "        [-0.0137,  0.0242, -0.0022,  ..., -0.0173,  0.0005,  0.0186]],\n",
      "       device='mps:0', grad_fn=<SliceBackward0>) \n",
      "\n",
      "Layer: linear_relu_stack.0.bias | Size: torch.Size([512]) | Values : tensor([ 0.0184, -0.0170], device='mps:0', grad_fn=<SliceBackward0>) \n",
      "\n",
      "Layer: linear_relu_stack.2.weight | Size: torch.Size([512, 512]) | Values : tensor([[-0.0221,  0.0316,  0.0228,  ..., -0.0397,  0.0351, -0.0035],\n",
      "        [ 0.0431,  0.0270,  0.0335,  ...,  0.0317,  0.0323, -0.0402]],\n",
      "       device='mps:0', grad_fn=<SliceBackward0>) \n",
      "\n",
      "Layer: linear_relu_stack.2.bias | Size: torch.Size([512]) | Values : tensor([-0.0052,  0.0008], device='mps:0', grad_fn=<SliceBackward0>) \n",
      "\n",
      "Layer: linear_relu_stack.4.weight | Size: torch.Size([10, 512]) | Values : tensor([[ 0.0308, -0.0018, -0.0246,  ...,  0.0050, -0.0011,  0.0246],\n",
      "        [ 0.0350, -0.0242,  0.0082,  ..., -0.0432, -0.0027,  0.0294]],\n",
      "       device='mps:0', grad_fn=<SliceBackward0>) \n",
      "\n",
      "Layer: linear_relu_stack.4.bias | Size: torch.Size([10]) | Values : tensor([-0.0284, -0.0066], device='mps:0', grad_fn=<SliceBackward0>) \n",
      "\n"
     ]
    }
   ],
   "source": [
    "print(f\"Model structure: {model}\\n\\n\")\n",
    "\n",
    "for name, param in model.named_parameters():\n",
    "    print(f\"Layer: {name} | Size: {param.size()} | Values : {param[:2]} \\n\")"
   ]
  },
  {
   "cell_type": "markdown",
   "metadata": {},
   "source": [
    "---"
   ]
  }
 ],
 "metadata": {
  "kernelspec": {
   "display_name": "Python 3 (ipykernel)",
   "language": "python",
   "name": "python3"
  },
  "language_info": {
   "codemirror_mode": {
    "name": "ipython",
    "version": 3
   },
   "file_extension": ".py",
   "mimetype": "text/x-python",
   "name": "python",
   "nbconvert_exporter": "python",
   "pygments_lexer": "ipython3",
   "version": "3.10.12"
  }
 },
 "nbformat": 4,
 "nbformat_minor": 2
}
