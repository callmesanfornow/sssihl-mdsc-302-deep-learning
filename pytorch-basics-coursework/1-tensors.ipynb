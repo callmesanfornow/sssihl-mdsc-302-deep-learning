{
 "cells": [
  {
   "cell_type": "markdown",
   "metadata": {},
   "source": [
    "Roll : 21226\n",
    "\n",
    "Assignment 1 : Tensors"
   ]
  },
  {
   "cell_type": "markdown",
   "metadata": {},
   "source": [
    "___"
   ]
  },
  {
   "cell_type": "markdown",
   "metadata": {},
   "source": [
    "# Tensors\n",
    "\n",
    "Tensors are a specialized data structure that are very similar to arrays and matrices. In PyTorch, tensors are used to encode the inputs and outputs of a model, as well as the model’s parameters.\n",
    "\n",
    "1. Tensors are same as NumPy arrays, except that tensors can run on GPUs or other hardware accelerators.\n",
    "\n",
    "2. Tensors and NumPy arrays share the same underlying memory, eliminating the need to copy data .\n",
    "\n",
    "3. Tensors are optimized for automatic differentiation."
   ]
  },
  {
   "cell_type": "code",
   "execution_count": 1,
   "metadata": {},
   "outputs": [],
   "source": [
    "# PyTorch library import\n",
    "import torch\n",
    "import numpy as np"
   ]
  },
  {
   "cell_type": "markdown",
   "metadata": {},
   "source": [
    "___"
   ]
  },
  {
   "cell_type": "markdown",
   "metadata": {},
   "source": [
    "## How to initialize a tensor?\n",
    "1. Direct Initialization.\n",
    "2. Via a NumPy array.\n",
    "3. Using another existing tensor.\n",
    "4. Random initialization."
   ]
  },
  {
   "cell_type": "code",
   "execution_count": 2,
   "metadata": {},
   "outputs": [
    {
     "name": "stdout",
     "output_type": "stream",
     "text": [
      "tensor([[1, 2],\n",
      "        [2, 1]])\n"
     ]
    }
   ],
   "source": [
    "# Direct Initialization\n",
    "direct_data = torch.tensor([[1,2], [2, 1]])\n",
    "print(direct_data)"
   ]
  },
  {
   "cell_type": "code",
   "execution_count": 3,
   "metadata": {},
   "outputs": [
    {
     "name": "stdout",
     "output_type": "stream",
     "text": [
      "tensor([[1, 2],\n",
      "        [2, 1]], dtype=torch.int32)\n"
     ]
    }
   ],
   "source": [
    "# NumPy init\n",
    "arr = np.array([[1,2], [2,1]])\n",
    "arr = torch.from_numpy(arr)\n",
    "print(arr)"
   ]
  },
  {
   "cell_type": "code",
   "execution_count": 6,
   "metadata": {},
   "outputs": [
    {
     "name": "stdout",
     "output_type": "stream",
     "text": [
      "Existing Tensor retaining its original properties:\n",
      "\n",
      " tensor([[1, 1],\n",
      "        [1, 1]], dtype=torch.int32)\n",
      "\n",
      "Overriding torch.int32 to torch.float32:\n",
      "\n",
      " tensor([[0.4352, 0.1283],\n",
      "        [0.6029, 0.6531]])\n"
     ]
    }
   ],
   "source": [
    "# From existing tensor\n",
    "\n",
    "arr1 = torch.ones_like(arr)\n",
    "print('Existing Tensor retaining its original properties:\\n\\n', arr1)\n",
    "\n",
    "arr2 = torch.rand_like(arr, dtype = torch.float32)\n",
    "print('\\nOverriding torch.int32 to torch.float32:\\n\\n', arr2)"
   ]
  },
  {
   "cell_type": "code",
   "execution_count": 7,
   "metadata": {},
   "outputs": [
    {
     "name": "stdout",
     "output_type": "stream",
     "text": [
      "Random Tensor in 4x5 : \n",
      "\n",
      " tensor([[0.5348, 0.0809, 0.5792, 0.2718, 0.2203],\n",
      "        [0.7247, 0.7594, 0.5925, 0.2026, 0.2746],\n",
      "        [0.0442, 0.6652, 0.8973, 0.6584, 0.9205],\n",
      "        [0.7065, 0.0698, 0.8376, 0.4871, 0.8880]])\n",
      "\n",
      "Tensor of ones in 4x5 : \n",
      "\n",
      " tensor([[1., 1., 1., 1., 1.],\n",
      "        [1., 1., 1., 1., 1.],\n",
      "        [1., 1., 1., 1., 1.],\n",
      "        [1., 1., 1., 1., 1.]])\n",
      "\n",
      "Tensor of zeros in 4x5 : \n",
      "\n",
      " tensor([[0., 0., 0., 0., 0.],\n",
      "        [0., 0., 0., 0., 0.],\n",
      "        [0., 0., 0., 0., 0.],\n",
      "        [0., 0., 0., 0., 0.]])\n"
     ]
    }
   ],
   "source": [
    "# Random Init\n",
    "shape = (4,5,) # Tensor of 4x5\n",
    "tensor_rand = torch.rand(shape)\n",
    "tensor_1 = torch.ones(shape)\n",
    "tensor_0 = torch.zeros(shape)\n",
    "\n",
    "print('Random Tensor in 4x5 : \\n\\n', tensor_rand)\n",
    "print('\\nTensor of ones in 4x5 : \\n\\n', tensor_1)\n",
    "print('\\nTensor of zeros in 4x5 : \\n\\n', tensor_0)"
   ]
  },
  {
   "cell_type": "markdown",
   "metadata": {},
   "source": [
    "___"
   ]
  },
  {
   "cell_type": "markdown",
   "metadata": {},
   "source": [
    "## Tensor Attributes\n",
    "\n",
    "Every tensor has attributes such as:\n",
    "\n",
    "    1. Shape\n",
    "    2. Datatype\n",
    "    3. Device"
   ]
  },
  {
   "cell_type": "code",
   "execution_count": 8,
   "metadata": {},
   "outputs": [
    {
     "name": "stdout",
     "output_type": "stream",
     "text": [
      "Shape of tensor : torch.Size([4, 5])\n",
      "Data Type of tensor : torch.float32\n",
      "Device Type of tensor : cpu\n"
     ]
    }
   ],
   "source": [
    "attrib_tensor = torch.rand(4,5)\n",
    "\n",
    "print('Shape of tensor :', attrib_tensor.shape)\n",
    "print('Data Type of tensor :', attrib_tensor.dtype)\n",
    "print('Device Type of tensor :', attrib_tensor.device)"
   ]
  },
  {
   "cell_type": "markdown",
   "metadata": {},
   "source": [
    "## Tensor Operations\n",
    "\n",
    "1. Slicing\n",
    "2. Indexing\n",
    "3. Joining Tensors(concatination)\n",
    "4. Arithmetic Operations of Tensors\n",
    "5. Aggregation\n",
    "6. In-place Operations"
   ]
  },
  {
   "cell_type": "code",
   "execution_count": 11,
   "metadata": {},
   "outputs": [
    {
     "name": "stdout",
     "output_type": "stream",
     "text": [
      "First Column: \n",
      "\n",
      " tensor([1., 1., 1., 1.])\n",
      "\n",
      "First Row: \n",
      "\n",
      " tensor([1., 1., 1., 1.])\n",
      "\n",
      "Last Row: \n",
      "\n",
      " tensor([1., 1., 1., 1.])\n",
      "\n",
      "Last Column: \n",
      "\n",
      " tensor([1., 1., 1., 1.])\n"
     ]
    }
   ],
   "source": [
    "# Indexing\n",
    "tensor = torch.ones(4,4,)\n",
    "print('First Column: \\n\\n', tensor[:,0])\n",
    "print('\\nFirst Row: \\n\\n', tensor[0])\n",
    "print('\\nLast Row: \\n\\n', tensor[-1])\n",
    "print('\\nLast Column: \\n\\n', tensor[...,-1])"
   ]
  },
  {
   "cell_type": "code",
   "execution_count": 12,
   "metadata": {},
   "outputs": [
    {
     "name": "stdout",
     "output_type": "stream",
     "text": [
      "tensor([[1., 0., 1., 1.],\n",
      "        [1., 0., 1., 1.],\n",
      "        [1., 0., 1., 1.],\n",
      "        [1., 0., 1., 1.]])\n"
     ]
    }
   ],
   "source": [
    "# Slicing\n",
    "tensor[:, 1] = 0\n",
    "print(tensor)"
   ]
  },
  {
   "cell_type": "code",
   "execution_count": 13,
   "metadata": {},
   "outputs": [
    {
     "name": "stdout",
     "output_type": "stream",
     "text": [
      "tensor([[1., 0., 1., 1., 1., 0., 1., 1.],\n",
      "        [1., 0., 1., 1., 1., 0., 1., 1.],\n",
      "        [1., 0., 1., 1., 1., 0., 1., 1.],\n",
      "        [1., 0., 1., 1., 1., 0., 1., 1.]])\n"
     ]
    }
   ],
   "source": [
    "# Concat\n",
    "t1 = torch.cat([tensor, tensor], dim =1)\n",
    "print(t1)"
   ]
  },
  {
   "cell_type": "code",
   "execution_count": 15,
   "metadata": {},
   "outputs": [
    {
     "data": {
      "text/plain": [
       "tensor([[3., 3., 3., 3.],\n",
       "        [3., 3., 3., 3.],\n",
       "        [3., 3., 3., 3.],\n",
       "        [3., 3., 3., 3.]])"
      ]
     },
     "execution_count": 15,
     "metadata": {},
     "output_type": "execute_result"
    }
   ],
   "source": [
    "# Matrix Multiplication using Tensors\n",
    "tensor @ tensor.T"
   ]
  },
  {
   "cell_type": "code",
   "execution_count": 16,
   "metadata": {},
   "outputs": [
    {
     "data": {
      "text/plain": [
       "tensor([[3., 3., 3., 3.],\n",
       "        [3., 3., 3., 3.],\n",
       "        [3., 3., 3., 3.],\n",
       "        [3., 3., 3., 3.]])"
      ]
     },
     "execution_count": 16,
     "metadata": {},
     "output_type": "execute_result"
    }
   ],
   "source": [
    "tensor.matmul(tensor.T)"
   ]
  },
  {
   "cell_type": "code",
   "execution_count": 18,
   "metadata": {},
   "outputs": [
    {
     "data": {
      "text/plain": [
       "tensor([[1., 0., 1., 1.],\n",
       "        [1., 0., 1., 1.],\n",
       "        [1., 0., 1., 1.],\n",
       "        [1., 0., 1., 1.]])"
      ]
     },
     "execution_count": 18,
     "metadata": {},
     "output_type": "execute_result"
    }
   ],
   "source": [
    "# Element-wise Product\n",
    "\n",
    "z1 = tensor * tensor\n",
    "z2 = tensor.mul(tensor)\n",
    "z3 = torch.rand_like(tensor)\n",
    "\n",
    "torch.mul(tensor, tensor, out = z3)"
   ]
  },
  {
   "cell_type": "code",
   "execution_count": 21,
   "metadata": {},
   "outputs": [
    {
     "name": "stdout",
     "output_type": "stream",
     "text": [
      "tensor(12.)  :  12.0\n"
     ]
    }
   ],
   "source": [
    "# Aggregation and Numerical Value\n",
    "print(tensor.sum(), ' : ' ,tensor.sum().item())"
   ]
  },
  {
   "cell_type": "code",
   "execution_count": 22,
   "metadata": {},
   "outputs": [
    {
     "name": "stdout",
     "output_type": "stream",
     "text": [
      "tensor([[6., 5., 6., 6.],\n",
      "        [6., 5., 6., 6.],\n",
      "        [6., 5., 6., 6.],\n",
      "        [6., 5., 6., 6.]])\n"
     ]
    }
   ],
   "source": [
    "# In-Place Operations\n",
    "\n",
    "print(tensor.add_(5))"
   ]
  },
  {
   "cell_type": "markdown",
   "metadata": {},
   "source": [
    "## NumPy and PyTorch Tensor memory relation\n",
    "\n",
    "Tensors on CPU and NumPy arrays on the CPU share the same memory locations. Changing a tensor might change the ndarray and vice versa."
   ]
  },
  {
   "cell_type": "code",
   "execution_count": 23,
   "metadata": {},
   "outputs": [
    {
     "name": "stdout",
     "output_type": "stream",
     "text": [
      "Tensor :  tensor([1., 1., 1., 1., 1., 1., 1., 1., 1.])\n"
     ]
    }
   ],
   "source": [
    "# Tensor to NumPy\n",
    "t = torch.ones(9)\n",
    "print('Tensor : ', t)"
   ]
  },
  {
   "cell_type": "code",
   "execution_count": 24,
   "metadata": {},
   "outputs": [
    {
     "name": "stdout",
     "output_type": "stream",
     "text": [
      "NumPy :  [1. 1. 1. 1. 1. 1. 1. 1. 1.]\n"
     ]
    }
   ],
   "source": [
    "n = t.numpy()\n",
    "print('NumPy : ', n)"
   ]
  },
  {
   "cell_type": "code",
   "execution_count": 27,
   "metadata": {},
   "outputs": [
    {
     "name": "stdout",
     "output_type": "stream",
     "text": [
      "Tensor :  tensor([2., 2., 2., 2., 2.], dtype=torch.float64)\n",
      "ndarray :  [2. 2. 2. 2. 2.]\n"
     ]
    }
   ],
   "source": [
    "# Adding 1 to the Tensor\n",
    "t.add_(1)\n",
    "print('Tensor : ', t)\n",
    "print('ndarray : ', n)"
   ]
  },
  {
   "cell_type": "markdown",
   "metadata": {},
   "source": [
    "We can see that changing tensor, changed NumPy array as well. Similarly it happens for NumPy to Tensor as well."
   ]
  },
  {
   "cell_type": "code",
   "execution_count": 28,
   "metadata": {},
   "outputs": [],
   "source": [
    "# NumPy array to tensor\n",
    "n = np.ones(5)\n",
    "t = torch.from_numpy(n)"
   ]
  },
  {
   "cell_type": "code",
   "execution_count": 29,
   "metadata": {},
   "outputs": [
    {
     "name": "stdout",
     "output_type": "stream",
     "text": [
      "Tensor :  tensor([2., 2., 2., 2., 2.], dtype=torch.float64)\n",
      "ndarray :  [2. 2. 2. 2. 2.]\n"
     ]
    }
   ],
   "source": [
    "np.add(n, 1, out=n)\n",
    "print('Tensor : ', t)\n",
    "print('ndarray : ', n)"
   ]
  },
  {
   "cell_type": "markdown",
   "metadata": {},
   "source": [
    "___"
   ]
  },
  {
   "cell_type": "markdown",
   "metadata": {},
   "source": [
    "This marks the end of Tensor Assignment"
   ]
  }
 ],
 "metadata": {
  "kernelspec": {
   "display_name": "base",
   "language": "python",
   "name": "python3"
  },
  "language_info": {
   "codemirror_mode": {
    "name": "ipython",
    "version": 3
   },
   "file_extension": ".py",
   "mimetype": "text/x-python",
   "name": "python",
   "nbconvert_exporter": "python",
   "pygments_lexer": "ipython3",
   "version": "3.10.10"
  },
  "orig_nbformat": 4
 },
 "nbformat": 4,
 "nbformat_minor": 2
}
