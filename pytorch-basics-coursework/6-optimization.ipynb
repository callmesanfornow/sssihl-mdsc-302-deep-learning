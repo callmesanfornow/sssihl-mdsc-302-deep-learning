{
 "cells": [
  {
   "cell_type": "markdown",
   "metadata": {},
   "source": [
    "Roll : 21226\n",
    "\n",
    "Assignment 6 : Optimization"
   ]
  },
  {
   "cell_type": "markdown",
   "metadata": {},
   "source": [
    "___"
   ]
  },
  {
   "cell_type": "markdown",
   "metadata": {},
   "source": [
    "## Optimizing Model Parameters\n",
    "\n",
    "Training a model is iterative and each iteration, the model guess the output and then calculates the error and using that it optimizes the parameters.\n",
    "\n",
    "## Code\n",
    "\n",
    "We will be using our FashionMNIST dataset to perform model training.\n"
   ]
  },
  {
   "cell_type": "code",
   "execution_count": 1,
   "metadata": {},
   "outputs": [],
   "source": [
    "import torch\n",
    "from torch import nn\n",
    "from torch.utils.data import DataLoader\n",
    "from torchvision import datasets\n",
    "from torchvision.transforms import ToTensor\n",
    "import matplotlib.pyplot as plt\n",
    "\n",
    "training_data = datasets.FashionMNIST(\n",
    "    root=\"data\",\n",
    "    train=True,\n",
    "    download=True,\n",
    "    transform=ToTensor()\n",
    ")\n",
    "\n",
    "test_data = datasets.FashionMNIST(\n",
    "    root=\"data\",\n",
    "    train=False,\n",
    "    download=True,\n",
    "    transform=ToTensor()\n",
    ")"
   ]
  },
  {
   "cell_type": "code",
   "execution_count": 2,
   "metadata": {},
   "outputs": [],
   "source": [
    "train_dataloader = DataLoader(training_data, batch_size=64)\n",
    "test_dataloader = DataLoader(test_data, batch_size=64)"
   ]
  },
  {
   "cell_type": "code",
   "execution_count": 3,
   "metadata": {},
   "outputs": [],
   "source": [
    "class NeuralNetwork(nn.Module):\n",
    "    def __init__(self):\n",
    "        super(NeuralNetwork, self).__init__()\n",
    "        self.flatten = nn.Flatten()\n",
    "        self.linear_relu_stack = nn.Sequential(\n",
    "            nn.Linear(28*28, 512),\n",
    "            nn.ReLU(),\n",
    "            nn.Linear(512, 512),\n",
    "            nn.ReLU(),\n",
    "            nn.Linear(512, 10),\n",
    "        )\n",
    "\n",
    "    def forward(self, x):\n",
    "        x = self.flatten(x)\n",
    "        logits = self.linear_relu_stack(x)\n",
    "        return logits\n",
    "\n",
    "model = NeuralNetwork()"
   ]
  },
  {
   "cell_type": "markdown",
   "metadata": {},
   "source": [
    "## Hyperparameters\n",
    "\n",
    "These are adjustable parameters for training.\n",
    "\n",
    "**Learning Rate** is for letting the model know how many updates it must do of the model parameter at each epoch.\n",
    "\n",
    "**Batch Size** is to indicate the number of samples that go into the network before parameter updating.\n",
    "\n",
    "**Epochs** is the \\# of iterations over a dataset"
   ]
  },
  {
   "cell_type": "code",
   "execution_count": 4,
   "metadata": {},
   "outputs": [],
   "source": [
    "learning_rate = 1e-3\n",
    "batch_size = 64\n",
    "epochs = 5"
   ]
  },
  {
   "cell_type": "markdown",
   "metadata": {},
   "source": [
    "## Loss function\n",
    "\n",
    "Loss is the parameter that we need to optimize during Model Training.\n",
    "\n",
    "To calculate the loss, we make a prediction using the input data and compare it against the actual lavbel."
   ]
  },
  {
   "cell_type": "code",
   "execution_count": 5,
   "metadata": {},
   "outputs": [],
   "source": [
    "# Initialize the loss function\n",
    "loss_fn = nn.CrossEntropyLoss()"
   ]
  },
  {
   "cell_type": "markdown",
   "metadata": {},
   "source": [
    "## Optimizer\n",
    "\n",
    "It is used to adjust model parameters and reduce model error in each training iteration.\n",
    "\n",
    "Here we use Stochastic Gradient Descent as our optimizer. But there are other popular ones such as AdamW."
   ]
  },
  {
   "cell_type": "code",
   "execution_count": 6,
   "metadata": {},
   "outputs": [],
   "source": [
    "optimizer = torch.optim.SGD(model.parameters(), lr=learning_rate)"
   ]
  },
  {
   "cell_type": "markdown",
   "metadata": {},
   "source": [
    "## Training and Testing"
   ]
  },
  {
   "cell_type": "code",
   "execution_count": 7,
   "metadata": {},
   "outputs": [],
   "source": [
    "def train_loop(dataloader, model, loss_fn, optimizer):\n",
    "    size = len(dataloader.dataset)\n",
    "    # Set the model to training mode - important for batch normalization and dropout layers\n",
    "    # Unnecessary in this situation but added for best practices\n",
    "    model.train()\n",
    "    for batch, (X, y) in enumerate(dataloader):\n",
    "        # Compute prediction and loss\n",
    "        pred = model(X)\n",
    "        loss = loss_fn(pred, y)\n",
    "\n",
    "        # Backpropagation\n",
    "        loss.backward()\n",
    "        optimizer.step()\n",
    "        optimizer.zero_grad()\n",
    "\n",
    "        if batch % 100 == 0:\n",
    "            loss, current = loss.item(), (batch + 1) * len(X)\n",
    "            print(f\"loss: {loss:>7f}  [{current:>5d}/{size:>5d}]\")"
   ]
  },
  {
   "cell_type": "code",
   "execution_count": 8,
   "metadata": {},
   "outputs": [],
   "source": [
    "def test_loop(dataloader, model, loss_fn):\n",
    "    # Set the model to evaluation mode - important for batch normalization and dropout layers\n",
    "    # Unnecessary in this situation but added for best practices\n",
    "    model.eval()\n",
    "    size = len(dataloader.dataset)\n",
    "    num_batches = len(dataloader)\n",
    "    test_loss, correct = 0, 0\n",
    "\n",
    "    # Evaluating the model with torch.no_grad() ensures that no gradients are computed during test mode\n",
    "    # also serves to reduce unnecessary gradient computations and memory usage for tensors with requires_grad=True\n",
    "    with torch.no_grad():\n",
    "        for X, y in dataloader:\n",
    "            pred = model(X)\n",
    "            test_loss += loss_fn(pred, y).item()\n",
    "            correct += (pred.argmax(1) == y).type(torch.float).sum().item()\n",
    "\n",
    "    test_loss /= num_batches\n",
    "    correct /= size\n",
    "    print(f\"Test Error: \\n Accuracy: {(100*correct):>0.1f}%, Avg loss: {test_loss:>8f} \\n\")"
   ]
  },
  {
   "cell_type": "markdown",
   "metadata": {},
   "source": [
    "Here, we train our model for 10 epochs"
   ]
  },
  {
   "cell_type": "code",
   "execution_count": 9,
   "metadata": {},
   "outputs": [
    {
     "name": "stdout",
     "output_type": "stream",
     "text": [
      "Epoch 1\n",
      "-------------------------------\n",
      "loss: 2.298350  [   64/60000]\n",
      "loss: 2.295428  [ 6464/60000]\n",
      "loss: 2.275869  [12864/60000]\n",
      "loss: 2.269361  [19264/60000]\n",
      "loss: 2.248394  [25664/60000]\n",
      "loss: 2.212932  [32064/60000]\n",
      "loss: 2.221786  [38464/60000]\n",
      "loss: 2.182499  [44864/60000]\n",
      "loss: 2.186109  [51264/60000]\n",
      "loss: 2.158732  [57664/60000]\n",
      "Test Error: \n",
      " Accuracy: 37.6%, Avg loss: 2.152163 \n",
      "\n",
      "Epoch 2\n",
      "-------------------------------\n",
      "loss: 2.156120  [   64/60000]\n",
      "loss: 2.159859  [ 6464/60000]\n",
      "loss: 2.104033  [12864/60000]\n",
      "loss: 2.124861  [19264/60000]\n",
      "loss: 2.063612  [25664/60000]\n",
      "loss: 1.995723  [32064/60000]\n",
      "loss: 2.032042  [38464/60000]\n",
      "loss: 1.942900  [44864/60000]\n",
      "loss: 1.954110  [51264/60000]\n",
      "loss: 1.889584  [57664/60000]\n",
      "Test Error: \n",
      " Accuracy: 46.7%, Avg loss: 1.883812 \n",
      "\n",
      "Epoch 3\n",
      "-------------------------------\n",
      "loss: 1.908819  [   64/60000]\n",
      "loss: 1.894178  [ 6464/60000]\n",
      "loss: 1.775101  [12864/60000]\n",
      "loss: 1.825620  [19264/60000]\n",
      "loss: 1.699706  [25664/60000]\n",
      "loss: 1.645018  [32064/60000]\n",
      "loss: 1.678833  [38464/60000]\n",
      "loss: 1.567248  [44864/60000]\n",
      "loss: 1.602487  [51264/60000]\n",
      "loss: 1.506752  [57664/60000]\n",
      "Test Error: \n",
      " Accuracy: 56.5%, Avg loss: 1.515812 \n",
      "\n",
      "Epoch 4\n",
      "-------------------------------\n",
      "loss: 1.572806  [   64/60000]\n",
      "loss: 1.553918  [ 6464/60000]\n",
      "loss: 1.397693  [12864/60000]\n",
      "loss: 1.483036  [19264/60000]\n",
      "loss: 1.356976  [25664/60000]\n",
      "loss: 1.342486  [32064/60000]\n",
      "loss: 1.367968  [38464/60000]\n",
      "loss: 1.278042  [44864/60000]\n",
      "loss: 1.322684  [51264/60000]\n",
      "loss: 1.235521  [57664/60000]\n",
      "Test Error: \n",
      " Accuracy: 62.3%, Avg loss: 1.252954 \n",
      "\n",
      "Epoch 5\n",
      "-------------------------------\n",
      "loss: 1.318503  [   64/60000]\n",
      "loss: 1.316189  [ 6464/60000]\n",
      "loss: 1.142799  [12864/60000]\n",
      "loss: 1.260244  [19264/60000]\n",
      "loss: 1.135621  [25664/60000]\n",
      "loss: 1.147479  [32064/60000]\n",
      "loss: 1.178415  [38464/60000]\n",
      "loss: 1.098850  [44864/60000]\n",
      "loss: 1.146588  [51264/60000]\n",
      "loss: 1.076263  [57664/60000]\n",
      "Test Error: \n",
      " Accuracy: 64.6%, Avg loss: 1.089143 \n",
      "\n",
      "Epoch 6\n",
      "-------------------------------\n",
      "loss: 1.148871  [   64/60000]\n",
      "loss: 1.166302  [ 6464/60000]\n",
      "loss: 0.974988  [12864/60000]\n",
      "loss: 1.119931  [19264/60000]\n",
      "loss: 0.994432  [25664/60000]\n",
      "loss: 1.015435  [32064/60000]\n",
      "loss: 1.059995  [38464/60000]\n",
      "loss: 0.983822  [44864/60000]\n",
      "loss: 1.031556  [51264/60000]\n",
      "loss: 0.975613  [57664/60000]\n",
      "Test Error: \n",
      " Accuracy: 65.7%, Avg loss: 0.982340 \n",
      "\n",
      "Epoch 7\n",
      "-------------------------------\n",
      "loss: 1.031023  [   64/60000]\n",
      "loss: 1.068359  [ 6464/60000]\n",
      "loss: 0.859420  [12864/60000]\n",
      "loss: 1.024967  [19264/60000]\n",
      "loss: 0.903202  [25664/60000]\n",
      "loss: 0.921823  [32064/60000]\n",
      "loss: 0.982041  [38464/60000]\n",
      "loss: 0.909503  [44864/60000]\n",
      "loss: 0.952129  [51264/60000]\n",
      "loss: 0.907897  [57664/60000]\n",
      "Test Error: \n",
      " Accuracy: 66.9%, Avg loss: 0.909440 \n",
      "\n",
      "Epoch 8\n",
      "-------------------------------\n",
      "loss: 0.944847  [   64/60000]\n",
      "loss: 1.000363  [ 6464/60000]\n",
      "loss: 0.776702  [12864/60000]\n",
      "loss: 0.957534  [19264/60000]\n",
      "loss: 0.841401  [25664/60000]\n",
      "loss: 0.853574  [32064/60000]\n",
      "loss: 0.927274  [38464/60000]\n",
      "loss: 0.860340  [44864/60000]\n",
      "loss: 0.895488  [51264/60000]\n",
      "loss: 0.859229  [57664/60000]\n",
      "Test Error: \n",
      " Accuracy: 68.2%, Avg loss: 0.857196 \n",
      "\n",
      "Epoch 9\n",
      "-------------------------------\n",
      "loss: 0.879121  [   64/60000]\n",
      "loss: 0.949338  [ 6464/60000]\n",
      "loss: 0.715169  [12864/60000]\n",
      "loss: 0.907234  [19264/60000]\n",
      "loss: 0.797370  [25664/60000]\n",
      "loss: 0.802221  [32064/60000]\n",
      "loss: 0.886054  [38464/60000]\n",
      "loss: 0.826173  [44864/60000]\n",
      "loss: 0.853724  [51264/60000]\n",
      "loss: 0.822087  [57664/60000]\n",
      "Test Error: \n",
      " Accuracy: 69.4%, Avg loss: 0.817779 \n",
      "\n",
      "Epoch 10\n",
      "-------------------------------\n",
      "loss: 0.826585  [   64/60000]\n",
      "loss: 0.908403  [ 6464/60000]\n",
      "loss: 0.667497  [12864/60000]\n",
      "loss: 0.868544  [19264/60000]\n",
      "loss: 0.764080  [25664/60000]\n",
      "loss: 0.762612  [32064/60000]\n",
      "loss: 0.852677  [38464/60000]\n",
      "loss: 0.800976  [44864/60000]\n",
      "loss: 0.821433  [51264/60000]\n",
      "loss: 0.792266  [57664/60000]\n",
      "Test Error: \n",
      " Accuracy: 70.8%, Avg loss: 0.786532 \n",
      "\n",
      "Done!\n"
     ]
    }
   ],
   "source": [
    "loss_fn = nn.CrossEntropyLoss()\n",
    "optimizer = torch.optim.SGD(model.parameters(), lr=learning_rate)\n",
    "\n",
    "epochs = 10\n",
    "for t in range(epochs):\n",
    "    print(f\"Epoch {t+1}\\n-------------------------------\")\n",
    "    train_loop(train_dataloader, model, loss_fn, optimizer)\n",
    "    test_loop(test_dataloader, model, loss_fn)\n",
    "print(\"Done!\")"
   ]
  },
  {
   "cell_type": "markdown",
   "metadata": {},
   "source": [
    "We have achieved a model accuracy of 70.8%"
   ]
  },
  {
   "cell_type": "markdown",
   "metadata": {},
   "source": [
    "---"
   ]
  }
 ],
 "metadata": {
  "kernelspec": {
   "display_name": "Python 3 (ipykernel)",
   "language": "python",
   "name": "python3"
  },
  "language_info": {
   "codemirror_mode": {
    "name": "ipython",
    "version": 3
   },
   "file_extension": ".py",
   "mimetype": "text/x-python",
   "name": "python",
   "nbconvert_exporter": "python",
   "pygments_lexer": "ipython3",
   "version": "3.10.12"
  }
 },
 "nbformat": 4,
 "nbformat_minor": 2
}
