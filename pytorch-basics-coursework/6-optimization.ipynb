{
 "cells": [
  {
   "cell_type": "markdown",
   "metadata": {},
   "source": [
    "Roll : 21226\n",
    "\n",
    "Assignment 6 : Optimization"
   ]
  },
  {
   "cell_type": "markdown",
   "metadata": {},
   "source": [
    "___"
   ]
  },
  {
   "cell_type": "markdown",
   "metadata": {},
   "source": [
    "## Optimizing Model Parameters\n",
    "\n",
    "Training a model is iterative and each iteration, the model guess the output and then calculates the error and using that it optimizes the parameters.\n",
    "\n",
    "## Code\n",
    "\n",
    "We will be using our FashionMNIST dataset to perform model training.\n"
   ]
  },
  {
   "cell_type": "code",
   "execution_count": 1,
   "metadata": {},
   "outputs": [],
   "source": [
    "import torch\n",
    "from torch import nn\n",
    "from torch.utils.data import DataLoader\n",
    "from torchvision import datasets\n",
    "from torchvision.transforms import ToTensor\n",
    "import matplotlib.pyplot as plt\n",
    "\n",
    "training_data = datasets.FashionMNIST(\n",
    "    root=\"data\",\n",
    "    train=True,\n",
    "    download=True,\n",
    "    transform=ToTensor()\n",
    ")\n",
    "\n",
    "test_data = datasets.FashionMNIST(\n",
    "    root=\"data\",\n",
    "    train=False,\n",
    "    download=True,\n",
    "    transform=ToTensor()\n",
    ")"
   ]
  },
  {
   "cell_type": "code",
   "execution_count": 2,
   "metadata": {},
   "outputs": [],
   "source": [
    "train_dataloader = DataLoader(training_data, batch_size=64)\n",
    "test_dataloader = DataLoader(test_data, batch_size=64)"
   ]
  },
  {
   "cell_type": "code",
   "execution_count": 3,
   "metadata": {},
   "outputs": [],
   "source": [
    "class NeuralNetwork(nn.Module):\n",
    "    def __init__(self):\n",
    "        super(NeuralNetwork, self).__init__()\n",
    "        self.flatten = nn.Flatten()\n",
    "        self.linear_relu_stack = nn.Sequential(\n",
    "            nn.Linear(28*28, 512),\n",
    "            nn.ReLU(),\n",
    "            nn.Linear(512, 512),\n",
    "            nn.ReLU(),\n",
    "            nn.Linear(512, 10),\n",
    "        )\n",
    "\n",
    "    def forward(self, x):\n",
    "        x = self.flatten(x)\n",
    "        logits = self.linear_relu_stack(x)\n",
    "        return logits\n",
    "\n",
    "model = NeuralNetwork()"
   ]
  },
  {
   "cell_type": "markdown",
   "metadata": {},
   "source": [
    "## Hyperparameters\n",
    "\n",
    "These are adjustable parameters for training.\n",
    "\n",
    "**Learning Rate** is for letting the model know how many updates it must do of the model parameter at each epoch.\n",
    "\n",
    "**Batch Size** is to indicate the number of samples that go into the network before parameter updating.\n",
    "\n",
    "**Epochs** is the \\# of iterations over a dataset"
   ]
  },
  {
   "cell_type": "code",
   "execution_count": 4,
   "metadata": {},
   "outputs": [],
   "source": [
    "learning_rate = 1e-3\n",
    "batch_size = 64\n",
    "epochs = 5"
   ]
  },
  {
   "cell_type": "markdown",
   "metadata": {},
   "source": [
    "## Loss function\n",
    "\n",
    "Loss is the parameter that we need to optimize during Model Training.\n",
    "\n",
    "To calculate the loss, we make a prediction using the input data and compare it against the actual lavbel."
   ]
  },
  {
   "cell_type": "code",
   "execution_count": 5,
   "metadata": {},
   "outputs": [],
   "source": [
    "# Initialize the loss function\n",
    "loss_fn = nn.CrossEntropyLoss()"
   ]
  },
  {
   "cell_type": "markdown",
   "metadata": {},
   "source": [
    "## Optimizer\n",
    "\n",
    "It is used to adjust model parameters and reduce model error in each training iteration.\n",
    "\n",
    "Here we use Stochastic Gradient Descent as our optimizer. But there are other popular ones such as AdamW."
   ]
  },
  {
   "cell_type": "code",
   "execution_count": 6,
   "metadata": {},
   "outputs": [],
   "source": [
    "optimizer = torch.optim.SGD(model.parameters(), lr=learning_rate)"
   ]
  },
  {
   "cell_type": "markdown",
   "metadata": {},
   "source": [
    "## Training and Testing"
   ]
  },
  {
   "cell_type": "code",
   "execution_count": 7,
   "metadata": {},
   "outputs": [],
   "source": [
    "def train_loop(dataloader, model, loss_fn, optimizer):\n",
    "    size = len(dataloader.dataset)\n",
    "    # Set the model to training mode - important for batch normalization and dropout layers\n",
    "    # Unnecessary in this situation but added for best practices\n",
    "    model.train()\n",
    "    for batch, (X, y) in enumerate(dataloader):\n",
    "        # Compute prediction and loss\n",
    "        pred = model(X)\n",
    "        loss = loss_fn(pred, y)\n",
    "\n",
    "        # Backpropagation\n",
    "        loss.backward()\n",
    "        optimizer.step()\n",
    "        optimizer.zero_grad()\n",
    "\n",
    "        if batch % 100 == 0:\n",
    "            loss, current = loss.item(), (batch + 1) * len(X)\n",
    "            print(f\"loss: {loss:>7f}  [{current:>5d}/{size:>5d}]\")"
   ]
  },
  {
   "cell_type": "code",
   "execution_count": 8,
   "metadata": {},
   "outputs": [],
   "source": [
    "def test_loop(dataloader, model, loss_fn):\n",
    "    # Set the model to evaluation mode - important for batch normalization and dropout layers\n",
    "    # Unnecessary in this situation but added for best practices\n",
    "    model.eval()\n",
    "    size = len(dataloader.dataset)\n",
    "    num_batches = len(dataloader)\n",
    "    test_loss, correct = 0, 0\n",
    "\n",
    "    # Evaluating the model with torch.no_grad() ensures that no gradients are computed during test mode\n",
    "    # also serves to reduce unnecessary gradient computations and memory usage for tensors with requires_grad=True\n",
    "    with torch.no_grad():\n",
    "        for X, y in dataloader:\n",
    "            pred = model(X)\n",
    "            test_loss += loss_fn(pred, y).item()\n",
    "            correct += (pred.argmax(1) == y).type(torch.float).sum().item()\n",
    "\n",
    "    test_loss /= num_batches\n",
    "    correct /= size\n",
    "    print(f\"Test Error: \\n Accuracy: {(100*correct):>0.1f}%, Avg loss: {test_loss:>8f} \\n\")"
   ]
  },
  {
   "cell_type": "markdown",
   "metadata": {},
   "source": [
    "Here, we train our model for 10 epochs"
   ]
  },
  {
   "cell_type": "code",
   "execution_count": 9,
   "metadata": {},
   "outputs": [
    {
     "name": "stdout",
     "output_type": "stream",
     "text": [
      "Epoch 1\n",
      "-------------------------------\n",
      "loss: 2.311670  [   64/60000]\n",
      "loss: 2.305948  [ 6464/60000]\n",
      "loss: 2.283340  [12864/60000]\n",
      "loss: 2.273497  [19264/60000]\n",
      "loss: 2.269489  [25664/60000]\n",
      "loss: 2.220786  [32064/60000]\n",
      "loss: 2.232006  [38464/60000]\n",
      "loss: 2.188468  [44864/60000]\n",
      "loss: 2.182986  [51264/60000]\n",
      "loss: 2.149406  [57664/60000]\n",
      "Test Error: \n",
      " Accuracy: 35.8%, Avg loss: 2.150219 \n",
      "\n",
      "Epoch 2\n",
      "-------------------------------\n",
      "loss: 2.156248  [   64/60000]\n",
      "loss: 2.150949  [ 6464/60000]\n",
      "loss: 2.086017  [12864/60000]\n",
      "loss: 2.107327  [19264/60000]\n",
      "loss: 2.060691  [25664/60000]\n",
      "loss: 1.983816  [32064/60000]\n",
      "loss: 2.019568  [38464/60000]\n",
      "loss: 1.924046  [44864/60000]\n",
      "loss: 1.932546  [51264/60000]\n",
      "loss: 1.866973  [57664/60000]\n",
      "Test Error: \n",
      " Accuracy: 53.9%, Avg loss: 1.865588 \n",
      "\n",
      "Epoch 3\n",
      "-------------------------------\n",
      "loss: 1.890614  [   64/60000]\n",
      "loss: 1.862630  [ 6464/60000]\n",
      "loss: 1.738919  [12864/60000]\n",
      "loss: 1.795500  [19264/60000]\n",
      "loss: 1.693294  [25664/60000]\n",
      "loss: 1.636222  [32064/60000]\n",
      "loss: 1.672648  [38464/60000]\n",
      "loss: 1.560841  [44864/60000]\n",
      "loss: 1.593090  [51264/60000]\n",
      "loss: 1.505670  [57664/60000]\n",
      "Test Error: \n",
      " Accuracy: 60.6%, Avg loss: 1.517576 \n",
      "\n",
      "Epoch 4\n",
      "-------------------------------\n",
      "loss: 1.573161  [   64/60000]\n",
      "loss: 1.544544  [ 6464/60000]\n",
      "loss: 1.393199  [12864/60000]\n",
      "loss: 1.476328  [19264/60000]\n",
      "loss: 1.378721  [25664/60000]\n",
      "loss: 1.360144  [32064/60000]\n",
      "loss: 1.386658  [38464/60000]\n",
      "loss: 1.300324  [44864/60000]\n",
      "loss: 1.335991  [51264/60000]\n",
      "loss: 1.253992  [57664/60000]\n",
      "Test Error: \n",
      " Accuracy: 63.0%, Avg loss: 1.271817 \n",
      "\n",
      "Epoch 5\n",
      "-------------------------------\n",
      "loss: 1.339071  [   64/60000]\n",
      "loss: 1.323645  [ 6464/60000]\n",
      "loss: 1.159126  [12864/60000]\n",
      "loss: 1.265878  [19264/60000]\n",
      "loss: 1.165187  [25664/60000]\n",
      "loss: 1.173016  [32064/60000]\n",
      "loss: 1.203223  [38464/60000]\n",
      "loss: 1.131083  [44864/60000]\n",
      "loss: 1.166246  [51264/60000]\n",
      "loss: 1.095517  [57664/60000]\n",
      "Test Error: \n",
      " Accuracy: 64.4%, Avg loss: 1.109763 \n",
      "\n",
      "Epoch 6\n",
      "-------------------------------\n",
      "loss: 1.175067  [   64/60000]\n",
      "loss: 1.175778  [ 6464/60000]\n",
      "loss: 0.997229  [12864/60000]\n",
      "loss: 1.126395  [19264/60000]\n",
      "loss: 1.023395  [25664/60000]\n",
      "loss: 1.039257  [32064/60000]\n",
      "loss: 1.081226  [38464/60000]\n",
      "loss: 1.016662  [44864/60000]\n",
      "loss: 1.047774  [51264/60000]\n",
      "loss: 0.989786  [57664/60000]\n",
      "Test Error: \n",
      " Accuracy: 65.4%, Avg loss: 0.999307 \n",
      "\n",
      "Epoch 7\n",
      "-------------------------------\n",
      "loss: 1.054964  [   64/60000]\n",
      "loss: 1.074947  [ 6464/60000]\n",
      "loss: 0.881656  [12864/60000]\n",
      "loss: 1.030008  [19264/60000]\n",
      "loss: 0.930019  [25664/60000]\n",
      "loss: 0.941618  [32064/60000]\n",
      "loss: 0.997701  [38464/60000]\n",
      "loss: 0.939746  [44864/60000]\n",
      "loss: 0.962908  [51264/60000]\n",
      "loss: 0.917023  [57664/60000]\n",
      "Test Error: \n",
      " Accuracy: 66.7%, Avg loss: 0.922135 \n",
      "\n",
      "Epoch 8\n",
      "-------------------------------\n",
      "loss: 0.964644  [   64/60000]\n",
      "loss: 1.003243  [ 6464/60000]\n",
      "loss: 0.797529  [12864/60000]\n",
      "loss: 0.961477  [19264/60000]\n",
      "loss: 0.867116  [25664/60000]\n",
      "loss: 0.870067  [32064/60000]\n",
      "loss: 0.938205  [38464/60000]\n",
      "loss: 0.887823  [44864/60000]\n",
      "loss: 0.901543  [51264/60000]\n",
      "loss: 0.864956  [57664/60000]\n",
      "Test Error: \n",
      " Accuracy: 67.8%, Avg loss: 0.866646 \n",
      "\n",
      "Epoch 9\n",
      "-------------------------------\n",
      "loss: 0.895324  [   64/60000]\n",
      "loss: 0.949663  [ 6464/60000]\n",
      "loss: 0.734874  [12864/60000]\n",
      "loss: 0.911410  [19264/60000]\n",
      "loss: 0.822828  [25664/60000]\n",
      "loss: 0.816988  [32064/60000]\n",
      "loss: 0.893865  [38464/60000]\n",
      "loss: 0.851748  [44864/60000]\n",
      "loss: 0.856424  [51264/60000]\n",
      "loss: 0.826039  [57664/60000]\n",
      "Test Error: \n",
      " Accuracy: 69.2%, Avg loss: 0.825164 \n",
      "\n",
      "Epoch 10\n",
      "-------------------------------\n",
      "loss: 0.840157  [   64/60000]\n",
      "loss: 0.907396  [ 6464/60000]\n",
      "loss: 0.686414  [12864/60000]\n",
      "loss: 0.873514  [19264/60000]\n",
      "loss: 0.789788  [25664/60000]\n",
      "loss: 0.776850  [32064/60000]\n",
      "loss: 0.858945  [38464/60000]\n",
      "loss: 0.825618  [44864/60000]\n",
      "loss: 0.821888  [51264/60000]\n",
      "loss: 0.795480  [57664/60000]\n",
      "Test Error: \n",
      " Accuracy: 70.6%, Avg loss: 0.792762 \n",
      "\n",
      "Done!\n"
     ]
    }
   ],
   "source": [
    "loss_fn = nn.CrossEntropyLoss()\n",
    "optimizer = torch.optim.SGD(model.parameters(), lr=learning_rate)\n",
    "\n",
    "epochs = 10\n",
    "for t in range(epochs):\n",
    "    print(f\"Epoch {t+1}\\n-------------------------------\")\n",
    "    train_loop(train_dataloader, model, loss_fn, optimizer)\n",
    "    test_loop(test_dataloader, model, loss_fn)\n",
    "print(\"Done!\")"
   ]
  },
  {
   "cell_type": "markdown",
   "metadata": {},
   "source": [
    "We have achieved a model accuracy of 70.6%"
   ]
  },
  {
   "cell_type": "markdown",
   "metadata": {},
   "source": [
    "---"
   ]
  }
 ],
 "metadata": {
  "kernelspec": {
   "display_name": "base",
   "language": "python",
   "name": "python3"
  },
  "language_info": {
   "codemirror_mode": {
    "name": "ipython",
    "version": 3
   },
   "file_extension": ".py",
   "mimetype": "text/x-python",
   "name": "python",
   "nbconvert_exporter": "python",
   "pygments_lexer": "ipython3",
   "version": "3.10.10"
  },
  "orig_nbformat": 4
 },
 "nbformat": 4,
 "nbformat_minor": 2
}
