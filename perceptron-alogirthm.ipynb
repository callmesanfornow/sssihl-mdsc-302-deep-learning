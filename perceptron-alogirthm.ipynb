{
 "cells": [
  {
   "cell_type": "code",
   "execution_count": 1,
   "id": "ce85291e",
   "metadata": {},
   "outputs": [],
   "source": [
    "from sklearn.datasets import make_blobs\n",
    "\n",
    "X, y = make_blobs(n_samples= 10, n_features= 2, centers= 2, random_state=42)"
   ]
  },
  {
   "cell_type": "code",
   "execution_count": 2,
   "id": "905129d8",
   "metadata": {},
   "outputs": [
    {
     "data": {
      "text/plain": [
       "array([[ 2.914961  ,  1.41088215],\n",
       "       [-2.97261532,  8.54855637],\n",
       "       [-0.92998481,  9.78172086],\n",
       "       [ 3.62704772,  2.28741702],\n",
       "       [-2.743351  ,  8.78014917],\n",
       "       [ 3.73185476,  0.56086598],\n",
       "       [ 4.70740704,  0.5484215 ],\n",
       "       [-2.26723535,  7.10100588],\n",
       "       [-2.97867201,  9.55684617],\n",
       "       [ 6.10552761,  1.74739338]])"
      ]
     },
     "execution_count": 2,
     "metadata": {},
     "output_type": "execute_result"
    }
   ],
   "source": [
    "X"
   ]
  },
  {
   "cell_type": "code",
   "execution_count": 3,
   "id": "b347cd96",
   "metadata": {},
   "outputs": [
    {
     "data": {
      "text/plain": [
       "array([1, 0, 0, 1, 0, 1, 1, 0, 0, 1])"
      ]
     },
     "execution_count": 3,
     "metadata": {},
     "output_type": "execute_result"
    }
   ],
   "source": [
    "y"
   ]
  },
  {
   "cell_type": "code",
   "execution_count": null,
   "id": "0efd203a",
   "metadata": {},
   "outputs": [],
   "source": [
    "# random init of weights\n",
    "w = [0, 0]"
   ]
  },
  {
   "cell_type": "code",
   "execution_count": null,
   "id": "4e0c2f46",
   "metadata": {},
   "outputs": [],
   "source": [
    "while :\n",
    "    if x "
   ]
  }
 ],
 "metadata": {
  "kernelspec": {
   "display_name": "Python 3 (ipykernel)",
   "language": "python",
   "name": "python3"
  },
  "language_info": {
   "codemirror_mode": {
    "name": "ipython",
    "version": 3
   },
   "file_extension": ".py",
   "mimetype": "text/x-python",
   "name": "python",
   "nbconvert_exporter": "python",
   "pygments_lexer": "ipython3",
   "version": "3.10.10"
  }
 },
 "nbformat": 4,
 "nbformat_minor": 5
}
