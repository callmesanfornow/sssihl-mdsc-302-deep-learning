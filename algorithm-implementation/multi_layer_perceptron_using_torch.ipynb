{
  "nbformat": 4,
  "nbformat_minor": 0,
  "metadata": {
    "colab": {
      "provenance": []
    },
    "kernelspec": {
      "name": "python3",
      "display_name": "Python 3"
    },
    "language_info": {
      "name": "python"
    }
  },
  "cells": [
    {
      "cell_type": "code",
      "execution_count": null,
      "metadata": {
        "id": "gjGlYKoskuUH"
      },
      "outputs": [],
      "source": [
        "import torch\n",
        "import torch.nn as nn\n",
        "import torch.optim as optim"
      ]
    },
    {
      "cell_type": "code",
      "source": [
        "# XOR input data and labels\n",
        "input_data = torch.tensor([[0, 0], [0, 1], [1, 0], [1, 1]], dtype=torch.float32)\n",
        "labels = torch.tensor([[0], [1], [1], [0]], dtype=torch.float32)"
      ],
      "metadata": {
        "id": "xxnbmLX3ky0S"
      },
      "execution_count": null,
      "outputs": []
    },
    {
      "cell_type": "code",
      "source": [
        "class XOR_MLP(nn.Module):\n",
        "    def __init__(self):\n",
        "        super(XOR_MLP, self).__init__()\n",
        "        self.hidden_layer = nn.Linear(2, 2)   # Hidden layer with 2 neurons\n",
        "        self.output_layer = nn.Linear(2, 1)   # Output layer with 1 neuron\n",
        "\n",
        "    def forward(self, x):\n",
        "        x = torch.sigmoid(self.hidden_layer(x))  # ReLU activation for the hidden layer\n",
        "        x = torch.sigmoid(self.output_layer(x))  # Sigmoid activation for the output layer\n",
        "        return x\n",
        "\n",
        "model = XOR_MLP()"
      ],
      "metadata": {
        "id": "hPe1HGtFk0I6"
      },
      "execution_count": null,
      "outputs": []
    },
    {
      "cell_type": "code",
      "source": [
        "# Define the loss function and optimizer\n",
        "criterion = nn.BCELoss()\n",
        "optimizer = optim.Adam(model.parameters())"
      ],
      "metadata": {
        "id": "Q3Z3yj0Gk4MS"
      },
      "execution_count": null,
      "outputs": []
    },
    {
      "cell_type": "code",
      "source": [
        "# Train the model\n",
        "num_epochs = 10000\n",
        "for epoch in range(num_epochs):\n",
        "    # Forward pass\n",
        "    outputs = model(input_data)\n",
        "    loss = criterion(outputs, labels)\n",
        "\n",
        "    # Backward and optimize\n",
        "    optimizer.zero_grad()\n",
        "    loss.backward()\n",
        "    optimizer.step()\n",
        "\n",
        "    # Print the loss every 1000 epochs\n",
        "    if (epoch + 1) % 1000 == 0:\n",
        "        print(f'Epoch [{epoch + 1}/{num_epochs}], Loss: {loss.item():.4f}')\n"
      ],
      "metadata": {
        "colab": {
          "base_uri": "https://localhost:8080/"
        },
        "id": "ieEkAd9_k5xx",
        "outputId": "3265c746-d728-4273-f89b-c49b0f401dd7"
      },
      "execution_count": null,
      "outputs": [
        {
          "output_type": "stream",
          "name": "stdout",
          "text": [
            "Epoch [1000/10000], Loss: 0.6011\n",
            "Epoch [2000/10000], Loss: 0.4106\n",
            "Epoch [3000/10000], Loss: 0.2790\n",
            "Epoch [4000/10000], Loss: 0.1961\n",
            "Epoch [5000/10000], Loss: 0.1418\n",
            "Epoch [6000/10000], Loss: 0.1046\n",
            "Epoch [7000/10000], Loss: 0.0782\n",
            "Epoch [8000/10000], Loss: 0.0591\n",
            "Epoch [9000/10000], Loss: 0.0450\n",
            "Epoch [10000/10000], Loss: 0.0345\n"
          ]
        }
      ]
    },
    {
      "cell_type": "code",
      "source": [
        "with torch.no_grad():\n",
        "    predictions = model(input_data)\n",
        "    rounded_predictions = torch.round(predictions)"
      ],
      "metadata": {
        "id": "OyQu0at4k-gp"
      },
      "execution_count": null,
      "outputs": []
    },
    {
      "cell_type": "code",
      "source": [
        "print(\"Actual Labels | Predicted Labels\")\n",
        "for i in range(len(labels)):\n",
        "    print(f\"{int(labels[i].item()):14} | {int(rounded_predictions[i].item()):16}\")"
      ],
      "metadata": {
        "colab": {
          "base_uri": "https://localhost:8080/"
        },
        "id": "QhSDQ1pElFxZ",
        "outputId": "49431f75-45da-462a-8738-3682f193b5a5"
      },
      "execution_count": null,
      "outputs": [
        {
          "output_type": "stream",
          "name": "stdout",
          "text": [
            "Actual Labels | Predicted Labels\n",
            "             0 |                0\n",
            "             1 |                1\n",
            "             1 |                1\n",
            "             0 |                0\n"
          ]
        }
      ]
    },
    {
      "cell_type": "code",
      "source": [
        "# Calculate accuracy\n",
        "accuracy = torch.mean((rounded_predictions == labels).float())\n",
        "print(\"Test accuracy:\", accuracy.item())"
      ],
      "metadata": {
        "colab": {
          "base_uri": "https://localhost:8080/"
        },
        "id": "pAMVPLP0lmam",
        "outputId": "1a7b34fa-d320-45d3-8278-a5a5ba7dfdd4"
      },
      "execution_count": null,
      "outputs": [
        {
          "output_type": "stream",
          "name": "stdout",
          "text": [
            "Test accuracy: 1.0\n"
          ]
        }
      ]
    }
  ]
}